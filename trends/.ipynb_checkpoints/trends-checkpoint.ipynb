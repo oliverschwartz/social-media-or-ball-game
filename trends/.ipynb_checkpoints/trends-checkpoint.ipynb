{
 "cells": [
  {
   "cell_type": "code",
   "execution_count": 1,
   "metadata": {
    "collapsed": false
   },
   "outputs": [],
   "source": [
    "# Dependencies: package sourced from https://github.com/GeneralMills/pytrends\n",
    "from pytrends.request import TrendReq\n",
    "import os"
   ]
  },
  {
   "cell_type": "code",
   "execution_count": 2,
   "metadata": {
    "collapsed": true
   },
   "outputs": [],
   "source": [
    "# Use a proxy so we don't get blocked by Google for too many requests\n",
    "pytrends = TrendReq(hl='en-US', tz=360)"
   ]
  },
  {
   "cell_type": "code",
   "execution_count": 7,
   "metadata": {
    "collapsed": false
   },
   "outputs": [],
   "source": [
    "players = []\n",
    "if os.getcwd() == \"/home/oliver/s19/381/trends\":\n",
    "    os.chdir(\"../allstar-votes\")\n",
    "\n",
    "with open(\"./players-complete.csv\") as f:\n",
    "    line = f.readline()\n",
    "    while line:\n",
    "        players.append(line.strip())\n",
    "        line = f.readline()\n",
    "os.chdir(\"..\")"
   ]
  },
  {
   "cell_type": "code",
   "execution_count": 8,
   "metadata": {
    "collapsed": false
   },
   "outputs": [
    {
     "name": "stdout",
     "output_type": "stream",
     "text": [
      "            Aaron Brooks isPartial\n",
      "date                              \n",
      "2014-05-18            26     False\n",
      "2014-05-25            22     False\n",
      "2014-06-01             9     False\n",
      "2014-06-08             5     False\n",
      "2014-06-15            11     False\n",
      "2014-06-22            10     False\n",
      "2014-06-29             9     False\n",
      "2014-07-06            11     False\n",
      "2014-07-13            75     False\n",
      "2014-07-20           100     False\n",
      "2014-07-27            21     False\n",
      "2014-08-03            19     False\n",
      "2014-08-10            16     False\n",
      "2014-08-17            14     False\n",
      "2014-08-24            11     False\n",
      "2014-08-31            11     False\n",
      "2014-09-07            12     False\n",
      "2014-09-14            11     False\n",
      "2014-09-21            14     False\n",
      "2014-09-28            22     False\n",
      "2014-10-05            28     False\n",
      "2014-10-12            14     False\n",
      "2014-10-19            20     False\n",
      "2014-10-26            70     False\n",
      "2014-11-02            41     False\n",
      "2014-11-09            46     False\n",
      "2014-11-16            42     False\n",
      "2014-11-23            20     False\n",
      "2014-11-30            17     False\n",
      "2014-12-07            30     False\n",
      "...                  ...       ...\n",
      "2018-10-14             9     False\n",
      "2018-10-21             5     False\n",
      "2018-10-28            13     False\n",
      "2018-11-04            14     False\n",
      "2018-11-11             9     False\n",
      "2018-11-18            10     False\n",
      "2018-11-25            15     False\n",
      "2018-12-02             8     False\n",
      "2018-12-09             9     False\n",
      "2018-12-16             7     False\n",
      "2018-12-23            11     False\n",
      "2018-12-30            13     False\n",
      "2019-01-06             8     False\n",
      "2019-01-13            11     False\n",
      "2019-01-20            11     False\n",
      "2019-01-27             6     False\n",
      "2019-02-03             7     False\n",
      "2019-02-10             6     False\n",
      "2019-02-17             6     False\n",
      "2019-02-24             6     False\n",
      "2019-03-03             5     False\n",
      "2019-03-10             9     False\n",
      "2019-03-17            13     False\n",
      "2019-03-24            12     False\n",
      "2019-03-31            18     False\n",
      "2019-04-07             9     False\n",
      "2019-04-14             9     False\n",
      "2019-04-21             6     False\n",
      "2019-04-28            10     False\n",
      "2019-05-05             5      True\n",
      "\n",
      "[260 rows x 2 columns]\n"
     ]
    }
   ],
   "source": [
    "for player in players:\n",
    "    kw = [player]\n",
    "    pytrends.build_payload(kw, cat=0, timeframe='today 5-y', geo='', gprop='')\n",
    "    print(pytrends.interest_over_time())"
   ]
  }
 ],
 "metadata": {
  "kernelspec": {
   "display_name": "Python 3",
   "language": "python",
   "name": "python3"
  },
  "language_info": {
   "codemirror_mode": {
    "name": "ipython",
    "version": 3
   },
   "file_extension": ".py",
   "mimetype": "text/x-python",
   "name": "python",
   "nbconvert_exporter": "python",
   "pygments_lexer": "ipython3",
   "version": "3.6.3"
  }
 },
 "nbformat": 4,
 "nbformat_minor": 2
}
