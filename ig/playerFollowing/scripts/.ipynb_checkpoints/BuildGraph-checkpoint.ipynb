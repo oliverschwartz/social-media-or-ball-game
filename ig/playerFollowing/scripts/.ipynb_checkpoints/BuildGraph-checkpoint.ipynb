{
 "cells": [
  {
   "cell_type": "markdown",
   "metadata": {},
   "source": [
    "# Building the Digraph\n",
    "By parsing csv files, we create the directed graph representing who follows who in the NBA. A directed edge goes **from A to B, if A follows B**.\n"
   ]
  },
  {
   "cell_type": "code",
   "execution_count": 1,
   "metadata": {},
   "outputs": [],
   "source": [
    "# dependencies and constants\n",
    "import os, csv, operator\n",
    "import numpy as np\n",
    "from sklearn.preprocessing import normalize\n",
    "import networkx as nx\n",
    "import matplotlib.pyplot as plt\n",
    "%matplotlib inline\n",
    "FILE_EXT_NUM = -14\n",
    "FILE_EXT     = \"_processed.csv\"\n",
    "DIR          = \"../processed\""
   ]
  },
  {
   "cell_type": "code",
   "execution_count": 2,
   "metadata": {},
   "outputs": [],
   "source": [
    "# create digraph\n",
    "G = nx.DiGraph()"
   ]
  },
  {
   "cell_type": "code",
   "execution_count": 3,
   "metadata": {},
   "outputs": [],
   "source": [
    "# add a node for each player\n",
    "os.chdir(DIR)\n",
    "for file in os.listdir():\n",
    "    if file[-14:] == FILE_EXT: # ignore hidden files\n",
    "        G.add_node(file[:FILE_EXT_NUM])"
   ]
  },
  {
   "cell_type": "code",
   "execution_count": 4,
   "metadata": {},
   "outputs": [],
   "source": [
    "# add directed edges between players\n",
    "for node in G.adj:\n",
    "    with open(str(node + FILE_EXT), 'r') as file:\n",
    "        for line in file.readlines():\n",
    "            line = line.strip()\n",
    "            for player in G.adj:\n",
    "                if player == line and player != node:\n",
    "                    G.add_edge(node, line)"
   ]
  },
  {
   "cell_type": "code",
   "execution_count": 5,
   "metadata": {
    "scrolled": true
   },
   "outputs": [
    {
     "data": {
      "image/png": "[encoded data removed]",
      "text/plain": [
       "<Figure size 432x288 with 1 Axes>"
      ]
     },
     "metadata": {
      "needs_background": "light"
     },
     "output_type": "display_data"
    }
   ],
   "source": [
    "# print graph\n",
    "nx.draw_networkx(G, with_labels=False, node_size=10)\n",
    "plt.draw()\n",
    "plt.show()"
   ]
  },
  {
   "cell_type": "markdown",
   "metadata": {},
   "source": [
    "# Computing Importance with PageRank\n",
    "In this section, we compute the importance score of each player in the network. We do this through two methods: first, a manual computation using the ```numpy``` library; then, a one-line computation with ```networkx``` built-in methods as a correctness check. "
   ]
  },
  {
   "cell_type": "code",
   "execution_count": 6,
   "metadata": {},
   "outputs": [
    {
     "name": "stdout",
     "output_type": "stream",
     "text": [
      "(114, 114)\n",
      "(114,)\n",
      "[8.71935532e-09 4.83601821e-09 9.20833661e-09 1.79693787e-08\n",
      " 7.27854837e-09 4.61666250e-09 1.50394816e-08 4.43736741e-09\n",
      " 6.92046641e-09 8.32596310e-09 4.76533695e-09 4.71179872e-09\n",
      " 6.16471264e-09 2.58558679e-08 1.43315162e-09 8.95069114e-09\n",
      " 4.44857583e-09 1.56481739e-08 1.26695016e-08 1.83423737e-08\n",
      " 1.13930685e-08 4.52164156e-09 7.15872790e-09 1.17318118e-08\n",
      " 3.92156277e-09 1.38612876e-08 3.81172186e-09 1.49133554e-08\n",
      " 3.75437546e-09 9.39728071e-09 1.69300163e-08 2.83592344e-08\n",
      " 2.99903637e-08 7.51794413e-09 8.45021343e-09 2.11978116e-08\n",
      " 8.58649906e-09 1.85974879e-08 2.21360434e-08 8.05900378e-09\n",
      " 3.44030196e-09 2.25412920e-08 1.02145229e-08 5.13456867e-09\n",
      " 1.23557991e-08 4.75154221e-09 5.02093241e-09 1.36509136e-08\n",
      " 1.21366276e-08 7.37651138e-09 3.53424258e-09 7.33281024e-09\n",
      " 1.35420530e-08 6.54945649e-09 8.07597096e-09 3.85672350e-08\n",
      " 6.69826466e-09 1.74334466e-08 3.43830622e-09 6.52662816e-09\n",
      " 1.43315162e-09 8.55871178e-09 2.08589284e-09 4.82165304e-09\n",
      " 5.86095456e-09 5.36894459e-09 5.26219879e-09 3.04501731e-09\n",
      " 1.97135801e-08 1.50037931e-08 1.43315162e-09 1.16483700e-08\n",
      " 1.11343339e-08 7.97933438e-09 4.08925070e-09 4.16733043e-09\n",
      " 8.54659583e-09 6.28673438e-09 8.51715806e-09 6.22547580e-09\n",
      " 2.55642233e-09 9.00043584e-09 1.54216898e-08 1.54330914e-08\n",
      " 2.06173103e-08 8.62933715e-09 9.06522790e-09 4.63316784e-09\n",
      " 8.24122240e-09 6.45197942e-09 6.05177055e-09 7.85455449e-09\n",
      " 4.38934696e-09 2.76096646e-09 5.03550919e-09 2.52410899e-08\n",
      " 3.85476713e-09 9.45068158e-09 6.63835296e-09 6.40506292e-09\n",
      " 1.78906510e-09 5.49099033e-09 7.02751491e-09 4.14046036e-09\n",
      " 6.42952034e-09 8.36021545e-09 5.29612573e-09 3.74622189e-09\n",
      " 4.36649985e-09 1.23695638e-08 5.95070573e-09 5.97195165e-09\n",
      " 2.59068151e-08 5.58863928e-09]\n"
     ]
    }
   ],
   "source": [
    "# compute H matrix (normalized with no all-zero rows)\n",
    "A = nx.adjacency_matrix(G).todense()\n",
    "dim = A.shape[0]\n",
    "row_sums = A.sum(axis=1)\n",
    "H = normalize(A, axis=1, norm='l1')\n",
    "for i in range(0, dim):\n",
    "    if int(row_sums[i]) is 0:\n",
    "        for col in H[i]:\n",
    "            col = 1.0/dim\n",
    "            \n",
    "# perform iterations to get the importance vector\n",
    "theta = 0.85\n",
    "G = theta * H + (1 - theta) * (1.0 / dim) * np.ones((dim, dim))\n",
    "print(G.shape)\n",
    "pi = np.ones(dim)\n",
    "print(pi.shape)\n",
    "for i in range(0, dim):\n",
    "    if i is not 0:\n",
    "        pi[i] = 0\n",
    "\n",
    "for i in range(0, 1000):\n",
    "    pi = pi.dot(G)\n",
    "    \n",
    "print(pi)"
   ]
  },
  {
   "cell_type": "code",
   "execution_count": 6,
   "metadata": {},
   "outputs": [
    {
     "name": "stdout",
     "output_type": "stream",
     "text": [
      "('kingjames', 0.03309155847335478)\n",
      "('ygtrece', 0.025543302641849133)\n",
      "('stephencurry30', 0.02472545111996436)\n",
      "('cp3', 0.02367490990607905)\n",
      "('jharden13', 0.022458167279892017)\n",
      "('carmeloanthony', 0.022110164852696016)\n",
      "('isaiahthomas', 0.019200851851392902)\n",
      "('antdavis23', 0.018887984496913268)\n",
      "('joelembiid', 0.018018083165225362)\n",
      "('jaytatum0', 0.01759698908778494)\n",
      "('deandre', 0.017212800743103097)\n",
      "('kuz', 0.01700907798273216)\n",
      "('damianlillard', 0.0164819852820764)\n",
      "('demar_derozan', 0.01512114398314907)\n",
      "('dloading', 0.014977400774086387)\n",
      "('lukadoncic', 0.014824698657984005)\n",
      "('sir_deuce2', 0.014795748792482235)\n",
      "('jimmybutler', 0.013616385148744303)\n",
      "('zo', 0.013570203312972734)\n",
      "('blakegriffin23', 0.013469277227529162)\n",
      "('klaythompson', 0.013407667384919145)\n",
      "('1ngram4', 0.013067239098376435)\n",
      "('swipathefox', 0.012636901330483168)\n",
      "('dbook', 0.012622792122997755)\n",
      "('karltowns', 0.01229568057800276)\n",
      "('traeyoung', 0.011489766100320703)\n",
      "('bensimmons', 0.01148823717850628)\n",
      "('kyle_lowry7', 0.01103180830873191)\n",
      "('jhart', 0.010619682237708906)\n",
      "('_tonyparker09', 0.010583866478267907)\n",
      "('tobiasharris', 0.010092226778267878)\n",
      "('bradbeal3', 0.010088960925982942)\n",
      "('juliusrandle30', 0.00980813684472368)\n",
      "('rajonrondo', 0.009756183233850812)\n",
      "('andre', 0.009014905772541196)\n",
      "('iamamirjohnson', 0.008289944532144931)\n",
      "('zachlavine8', 0.008288737911515664)\n",
      "('alhorford', 0.00813420857958747)\n",
      "('mac11', 0.008111578223658721)\n",
      "('kennethfaried35', 0.008037758870671666)\n",
      "('sdot1414', 0.007902592581033367)\n",
      "('iclark21', 0.007839109745045671)\n",
      "('rudygobert27', 0.007776254806624754)\n",
      "('3tross1', 0.007726612447356905)\n",
      "('timmyjr10', 0.007699650751519623)\n",
      "('_alvo_', 0.007645153722605734)\n",
      "('bam1of1', 0.007539696988116108)\n",
      "('mr_carter5', 0.007490713343517006)\n",
      "('22wiggins', 0.007414904768884994)\n",
      "('diawboris', 0.007369128412218111)\n",
      "('joeingles7', 0.0073601772388513335)\n",
      "('channingfrye', 0.007310215511651421)\n",
      "('sergeibaka', 0.007253909589650891)\n",
      "('chrisbosh', 0.0071181636527854865)\n",
      "('brandonknight', 0.00709998066338487)\n",
      "('austinjrivers', 0.006997037074851737)\n",
      "('nicbatum88', 0.006896637924062645)\n",
      "('dakarijohnson', 0.006674844714454861)\n",
      "('jlin7', 0.0066660416502620804)\n",
      "('andredrummondd', 0.006623621407280348)\n",
      "('thonmaker', 0.006567801632273249)\n",
      "('benoudrih19', 0.006422216013143285)\n",
      "('courtneylee', 0.00636798558361148)\n",
      "('giannis_an34', 0.006324099414962604)\n",
      "('atolliver44', 0.006297462837021106)\n",
      "('vevey1800', 0.006217897461491207)\n",
      "('brush_4', 0.006009345889980014)\n",
      "('acfresh21', 0.005901509158251241)\n",
      "('thats_g_', 0.0058147022084645405)\n",
      "('kporzee', 0.005775190303689152)\n",
      "('brunofive', 0.005701757119198696)\n",
      "('twoshotonee', 0.005682417786389041)\n",
      "('alexthegreat22', 0.00566175404504601)\n",
      "('youngheirgordon', 0.005654781827489504)\n",
      "('ccapela15', 0.0055699944427332285)\n",
      "('omricasspi18', 0.005569822530626823)\n",
      "('deandreayton', 0.005475019950104538)\n",
      "('kostas__ante13', 0.005387802486216333)\n",
      "('daanteee', 0.005268494637018452)\n",
      "('megalodon20', 0.0049665945942038514)\n",
      "('alexlen_21', 0.004881023243504045)\n",
      "('drewroc5', 0.004828593342149894)\n",
      "('amilejefferson', 0.0047109315764569115)\n",
      "('bjohnson_23', 0.004660343471452021)\n",
      "('lucmbahamoute', 0.004612501399357445)\n",
      "('stevenadams', 0.00455473845436629)\n",
      "('eneskanter11', 0.004544355206006546)\n",
      "('andersonvarejao18', 0.004418572414791126)\n",
      "('jjbarea11', 0.004413966452323223)\n",
      "('bogdanbogdanovic', 0.004337653338249626)\n",
      "('the_4th_holiday', 0.004250264472001033)\n",
      "('flydre21', 0.004175762453628784)\n",
      "('ageefla', 0.004143758704877736)\n",
      "('antezizic', 0.004133134335732794)\n",
      "('brucebrown11', 0.004109149958602457)\n",
      "('dubblea74', 0.004106833457592825)\n",
      "('danilogallogallinari', 0.004086200693394807)\n",
      "('mkg14', 0.0040759545809801526)\n",
      "('alexabrines', 0.004011832903210866)\n",
      "('gordonhayward', 0.003982566525733312)\n",
      "('antsimons', 0.003898106411261687)\n",
      "('iammontaellis', 0.003893763391766757)\n",
      "('graysonjallen', 0.0038205218445989883)\n",
      "('alantwilliams', 0.003817968971807373)\n",
      "('dulenader2', 0.0037847070110901887)\n",
      "('adreian_payne', 0.003751689324793977)\n",
      "('imfelicio', 0.00372925117517698)\n",
      "('chiefhasarrived', 0.0035499385293274372)\n",
      "('the_1_dragon', 0.003354510479693426)\n",
      "('alizejohnson24', 0.0033075013564119234)\n",
      "('blroberts22', 0.0031844268774823977)\n",
      "('ajincaalexis', 0.003117289266239388)\n",
      "('allencrabbe', 0.00303023300735455)\n",
      "('angeldelgado', 0.0028902602149218286)\n",
      "('bpaul', 0.0028785259993465324)\n",
      "('44bojan', 0.0026746366279742154)\n",
      "('nicholaf44', 0.002275861433475488)\n",
      "('alecpeters25', 0.0019232523052116466)\n",
      "('itsaverybradley', 0.0017683126493807128)\n",
      "('abrooksart', 0.0013391806503096882)\n",
      "('andrewbogut', 0.0013391806503096882)\n",
      "('kw15', 0.0013391806503096882)\n"
     ]
    }
   ],
   "source": [
    "pr = nx.pagerank(G, alpha = 0.85)\n",
    "pr_sorted = sorted(pr.items(), key=operator.itemgetter(1), reverse=True)\n",
    "for item in pr_sorted:\n",
    "    print(item)"
   ]
  }
 ],
 "metadata": {
  "kernelspec": {
   "display_name": "Python 3",
   "language": "python",
   "name": "python3"
  },
  "language_info": {
   "codemirror_mode": {
    "name": "ipython",
    "version": 3
   },
   "file_extension": ".py",
   "mimetype": "text/x-python",
   "name": "python",
   "nbconvert_exporter": "python",
   "pygments_lexer": "ipython3",
   "version": "3.6.3"
  }
 },
 "nbformat": 4,
 "nbformat_minor": 2
}
