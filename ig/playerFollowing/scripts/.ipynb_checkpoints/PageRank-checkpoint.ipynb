{
 "cells": [
  {
   "cell_type": "markdown",
   "metadata": {},
   "source": [
    "# Building the Digraph\n",
    "By parsing csv files, we create the directed graph representing who follows who in the NBA. A directed edge goes **from A to B, if A follows B**.\n"
   ]
  },
  {
   "cell_type": "code",
   "execution_count": 1,
   "metadata": {},
   "outputs": [],
   "source": [
    "# dependencies and constants\n",
    "import os, csv, operator\n",
    "import numpy as np\n",
    "from sklearn.preprocessing import normalize\n",
    "import networkx as nx\n",
    "import matplotlib.pyplot as plt\n",
    "%matplotlib inline\n",
    "FILE_EXT_NUM = -14\n",
    "FILE_EXT     = \"_processed.csv\"\n",
    "DIR          = \"../processed\""
   ]
  },
  {
   "cell_type": "code",
   "execution_count": 2,
   "metadata": {},
   "outputs": [],
   "source": [
    "# create digraph\n",
    "G = nx.DiGraph()"
   ]
  },
  {
   "cell_type": "code",
   "execution_count": 3,
   "metadata": {},
   "outputs": [],
   "source": [
    "# add a node for each player\n",
    "os.chdir(DIR)\n",
    "for file in os.listdir():\n",
    "    if file[-14:] == FILE_EXT: # ignore hidden files\n",
    "        G.add_node(file[:FILE_EXT_NUM])"
   ]
  },
  {
   "cell_type": "code",
   "execution_count": 4,
   "metadata": {},
   "outputs": [],
   "source": [
    "# add directed edges between players\n",
    "for node in G.adj:\n",
    "    with open(str(node + FILE_EXT), 'r') as file:\n",
    "        for line in file.readlines():\n",
    "            line = line.strip()\n",
    "            for player in G.adj:\n",
    "                if player == line and player != node:\n",
    "                    G.add_edge(node, line)"
   ]
  },
  {
   "cell_type": "code",
   "execution_count": 5,
   "metadata": {
    "scrolled": false
   },
   "outputs": [
    {
     "data": {
      "image/png": "[encoded data removed]",
      "text/plain": [
       "<Figure size 432x288 with 1 Axes>"
      ]
     },
     "metadata": {
      "needs_background": "light"
     },
     "output_type": "display_data"
    }
   ],
   "source": [
    "# print graph\n",
    "nx.draw_networkx(G, with_labels=False, node_size=10)\n",
    "plt.draw()\n",
    "plt.show()"
   ]
  },
  {
   "cell_type": "code",
   "execution_count": 6,
   "metadata": {},
   "outputs": [
    {
     "name": "stdout",
     "output_type": "stream",
     "text": [
      "abrooksart\n",
      "mkg14\n",
      "eneskanter11\n",
      "andrewbogut\n",
      "44bojan\n",
      "itsaverybradley\n"
     ]
    }
   ],
   "source": [
    "# Find players who don't follow any other players\n",
    "for player in G.nodes:\n",
    "    others = 0\n",
    "    for neighbor in G.neighbors(player):\n",
    "        others += 1\n",
    "    if (others == 0):\n",
    "        print(player)"
   ]
  },
  {
   "cell_type": "markdown",
   "metadata": {},
   "source": [
    "# Computing Importance with PageRank\n",
    "In this section, we compute the importance score of each player in the network. We do this through two methods: first, a manual computation using the ```numpy``` library; then, a one-line computation with ```networkx``` built-in methods as a correctness check. "
   ]
  },
  {
   "cell_type": "code",
   "execution_count": 7,
   "metadata": {},
   "outputs": [
    {
     "name": "stdout",
     "output_type": "stream",
     "text": [
      "[0.0012605  0.0012605  0.0012605  0.00163291 0.0017894  0.00204996\n",
      " 0.00266279 0.00266893 0.00278404 0.00282433 0.0028664  0.00325784\n",
      " 0.0033112  0.00332861 0.00339043 0.00344095 0.00346785 0.00347963\n",
      " 0.0034892  0.00363971 0.003646   0.00370569 0.00373834 0.00375443\n",
      " 0.00378412 0.00383279 0.00386709 0.00391363 0.00393969 0.00398876\n",
      " 0.00405686 0.00409562 0.00413425 0.00413578 0.00429039 0.00429242\n",
      " 0.00429672 0.00440651 0.00446116 0.00449922 0.00458012 0.00460048\n",
      " 0.00483348 0.00487696 0.0051133  0.00513619 0.00513853 0.00514096\n",
      " 0.00520662 0.00524962 0.00527288 0.00533397 0.00544902 0.00549867\n",
      " 0.00552743 0.00560291 0.00560393 0.00561556 0.00595565 0.00595855\n",
      " 0.00606091 0.00617393 0.00626211 0.00635461 0.00636149 0.00639014\n",
      " 0.0064063  0.00645514 0.00649715 0.00653996 0.00661675 0.00670232\n",
      " 0.00671166 0.00674454 0.0068419  0.00697653 0.00706778 0.00707511\n",
      " 0.00714653 0.0072243  0.00726615 0.0072688  0.00727773 0.00728844\n",
      " 0.00744577 0.0075497  0.00767139 0.00781281 0.00791738 0.00799347\n",
      " 0.00806669 0.00828993 0.00832259 0.00866106 0.0088653  0.00939547\n",
      " 0.00940495 0.00951294 0.00991762 0.01006257 0.01020353 0.01045349\n",
      " 0.01061741 0.01122697 0.01186816 0.01196761 0.01221704 0.01236748\n",
      " 0.01250038 0.01258244 0.0128514  0.01308808 0.01358033 0.01381771\n",
      " 0.01383534 0.01429073 0.01538597 0.01631172 0.01692002 0.01744661\n",
      " 0.01780792 0.01791488 0.01817926 0.02040112 0.02137565 0.0224282\n",
      " 0.02318351 0.02419548 0.03198166]\n"
     ]
    }
   ],
   "source": [
    "# compute H matrix (normalized with no all-zero rows)\n",
    "A = nx.adjacency_matrix(G).todense()\n",
    "dim = A.shape[0]\n",
    "row_sums = A.sum(axis=1)\n",
    "H = normalize(A, axis=1, norm='l1')\n",
    "for i in range(0, dim):\n",
    "    if int(row_sums[i]) is 0:\n",
    "        for j in range(len(H[i])):\n",
    "            H[i, j] = 1.0/dim\n",
    "\n",
    "# Ensure there are no zero rows\n",
    "# row_sums_2 = H.sum(axis=1)\n",
    "# for row_sum in row_sums_2:\n",
    "#     if row_sum == 0:\n",
    "#         print(\"zero row sum\")\n",
    "\n",
    "# perform iterations to get the importance vector\n",
    "theta = 0.85\n",
    "\n",
    "# Compute Google Matrix\n",
    "G_matrix = theta * H + (1 - theta) * (1.0 / dim) * np.ones((dim, dim))\n",
    "\n",
    "# Set an initial pi vector (normalized)\n",
    "pi = np.ones(dim)\n",
    "for i in range(0, dim):\n",
    "    if i is not 0:\n",
    "        pi[i] = 0\n",
    "\n",
    "# Perform 1000 iterations of PageRank\n",
    "for i in range(0, 1000):\n",
    "    pi = pi.dot(G_matrix)\n",
    "print(np.sort(pi))"
   ]
  },
  {
   "cell_type": "code",
   "execution_count": 26,
   "metadata": {},
   "outputs": [
    {
     "name": "stdout",
     "output_type": "stream",
     "text": [
      "('kingjames', 0.03197865746276434)\n",
      "('ygtrece', 0.024193966153442187)\n",
      "('stephencurry30', 0.023189442435413363)\n",
      "('cp3', 0.022427467468717835)\n",
      "('jharden13', 0.021376962309225273)\n",
      "('carmeloanthony', 0.020401076202169077)\n",
      "('isaiahthomas', 0.018176009959466662)\n",
      "('antdavis23', 0.017914397219166062)\n",
      "('joelembiid', 0.017807722350788438)\n",
      "('jaytatum0', 0.01744361287768145)\n",
      "('kuz', 0.01691487771186152)\n",
      "('deandre', 0.016310411321405493)\n",
      "('damianlillard', 0.015387092766579579)\n",
      "('demar_derozan', 0.014292081943722897)\n",
      "('dloading', 0.013834268195738244)\n",
      "('sir_deuce2', 0.013814547136870246)\n",
      "('lukadoncic', 0.013579431846271436)\n",
      "('jimmybutler', 0.013088152483361206)\n",
      "('klaythompson', 0.012854106695376984)\n",
      "('zo', 0.012577870704176288)\n",
      "('blakegriffin23', 0.012500345741316475)\n",
      "('1ngram4', 0.012363809005797989)\n",
      "('bensimmons', 0.012216525354225183)\n",
      "('dbook', 0.011965787096975952)\n",
      "('swipathefox', 0.011865679271735563)\n",
      "('karltowns', 0.011225945758737432)\n",
      "('traeyoung', 0.010616175640958795)\n",
      "('kyle_lowry7', 0.01045399415159614)\n",
      "('jhart', 0.010200032733187864)\n",
      "('bradbeal3', 0.010061688558623159)\n",
      "('boban', 0.009917293442772063)\n",
      "('tobiasharris', 0.009512437726351625)\n",
      "('juliusrandle30', 0.009402058439709239)\n",
      "('rajonrondo', 0.009393242427708871)\n",
      "('bismackbiyombo', 0.00887116762540807)\n",
      "('zachlavine8', 0.008660877102201339)\n",
      "('iso_zo', 0.00832140280406196)\n",
      "('andre', 0.008291797071759996)\n",
      "('alhorford', 0.008066606161897787)\n",
      "('_tonyparker09', 0.008001346897124948)\n",
      "('iamamirjohnson', 0.007917103271004571)\n",
      "('mac11', 0.007812907227946687)\n",
      "('b_mclemore23', 0.007670832407637031)\n",
      "('timmyjr10', 0.0075496871256975516)\n",
      "('mr_carter5', 0.007447166125654762)\n",
      "('bam1of1', 0.007286605866587353)\n",
      "('diawboris', 0.007283857429989611)\n",
      "('sdot1414', 0.007271049207940462)\n",
      "('kennethfaried35', 0.007266881463262754)\n",
      "('iclark21', 0.00722641401390309)\n",
      "('3tross1', 0.0071460358461676405)\n",
      "('_alvo_', 0.0070771099815110355)\n",
      "('joeingles7', 0.007068964897846522)\n",
      "('22wiggins', 0.006976009896427604)\n",
      "('sergeibaka', 0.006842936273223573)\n",
      "('austinjrivers', 0.006744311453877562)\n",
      "('channingfrye', 0.0067099284227836835)\n",
      "('rudygobert27', 0.006708036913892976)\n",
      "('atolliver44', 0.0066173295109180335)\n",
      "('chrisbosh', 0.006539917681211806)\n",
      "('dakarijohnson', 0.006495482406437833)\n",
      "('giannis_an34', 0.006457387574593321)\n",
      "('andredrummondd', 0.0064064825866463095)\n",
      "('courtneylee', 0.0063901408315784)\n",
      "('brandonknight', 0.006361043886084832)\n",
      "('benoudrih19', 0.00635456424988267)\n",
      "('nicbatum88', 0.006266736387393582)\n",
      "('thonmaker', 0.006175599517311694)\n",
      "('jlin7', 0.006061460141207771)\n",
      "('vevey1800', 0.005957914347937432)\n",
      "('blakeney96', 0.005957183840255629)\n",
      "('kporzee', 0.005616158099813082)\n",
      "('brush_4', 0.005605027445124868)\n",
      "('youngheirgordon', 0.005604493761216811)\n",
      "('brunofive', 0.005528079553558534)\n",
      "('omricasspi18', 0.00549960791677224)\n",
      "('acfresh21', 0.005446813534124191)\n",
      "('ccapela15', 0.005335715081899617)\n",
      "('deandreayton', 0.0052729693169161415)\n",
      "('twoshotonee', 0.005248094025557408)\n",
      "('thats_g_', 0.00520629701462988)\n",
      "('daanteee', 0.005141989987073884)\n",
      "('kostas__ante13', 0.0051399148833305205)\n",
      "('alexthegreat22', 0.00513528115435659)\n",
      "('drewroc5', 0.005112427653690631)\n",
      "('houseobayne', 0.004877001249490121)\n",
      "('stevenadams', 0.004832986506155667)\n",
      "('bogdanbogdanovic', 0.0046001735265931)\n",
      "('megalodon20', 0.004579812317785103)\n",
      "('lucmbahamoute', 0.0044998432864934304)\n",
      "('imfelicio', 0.004461432551293249)\n",
      "('alexlen_21', 0.004406022440209162)\n",
      "('bjohnson_23', 0.004296195222466163)\n",
      "('bportistime', 0.0042918151199949515)\n",
      "('amilejefferson', 0.0042895015021722485)\n",
      "('eneskanter11', 0.004135671245492324)\n",
      "('andersonvarejao18', 0.004135338226207822)\n",
      "('antezizic', 0.0040949581153997905)\n",
      "('jjbarea11', 0.0040567418796760395)\n",
      "('danilogallogallinari', 0.003988583281152386)\n",
      "('the_4th_holiday', 0.003938294791315807)\n",
      "('gordonhayward', 0.00391363923888138)\n",
      "('flydre21', 0.003866647029957706)\n",
      "('ageefla', 0.0038326610914461595)\n",
      "('dubblea74', 0.0037839993600585486)\n",
      "('mkg14', 0.0037541967039057995)\n",
      "('brucebrown11', 0.003738330577732919)\n",
      "('alexabrines', 0.0037052204718211463)\n",
      "('iammontaellis', 0.0036465075858709813)\n",
      "('antsimons', 0.0036393450442012195)\n",
      "('graysonjallen', 0.0034888430381471223)\n",
      "('alantwilliams', 0.0034791324118676223)\n",
      "('adreian_payne', 0.003468050671384589)\n",
      "('dulenader2', 0.003440543025838835)\n",
      "('the_1_dragon', 0.003390338055512629)\n",
      "('alizejohnson24', 0.0033276938168315252)\n",
      "('chiefhasarrived', 0.0033114291478279698)\n",
      "('blroberts22', 0.003258281654227747)\n",
      "('ajincaalexis', 0.002867247163833124)\n",
      "('allencrabbe', 0.0028243050964661875)\n",
      "('44bojan', 0.00278382906096751)\n",
      "('bpaul', 0.0026689944283754138)\n",
      "('angeldelgado', 0.002662341100187322)\n",
      "('nicholaf44', 0.0020499913713885043)\n",
      "('alecpeters25', 0.0017892787246844527)\n",
      "('itsaverybradley', 0.0016329935605480755)\n",
      "('abrooksart', 0.001260490278303618)\n",
      "('andrewbogut', 0.001260490278303618)\n",
      "('kw15', 0.001260490278303618)\n"
     ]
    }
   ],
   "source": [
    "# Do PageRank with networkx built in method. Ensure output \n",
    "# identical to the above results. \n",
    "pr = nx.pagerank(G, alpha = 0.85)\n",
    "pr_sorted = sorted(pr.items(), key=operator.itemgetter(1), reverse=True)\n",
    "for item in pr_sorted:\n",
    "    print(item)"
   ]
  },
  {
   "cell_type": "markdown",
   "metadata": {},
   "source": [
    "# Plotting All-Star votes against Importance\n",
    "Here, for a small subset of players we plot their All-Star votes against their importance score to discern some sort of relationship. "
   ]
  },
  {
   "cell_type": "code",
   "execution_count": 31,
   "metadata": {
    "scrolled": true
   },
   "outputs": [
    {
     "data": {
      "image/png": "[encoded data removed]",
      "text/plain": [
       "<Figure size 432x288 with 1 Axes>"
      ]
     },
     "metadata": {
      "needs_background": "light"
     },
     "output_type": "display_data"
    },
    {
     "name": "stdout",
     "output_type": "stream",
     "text": [
      "mean importance: 0.008428873026722235\n"
     ]
    }
   ],
   "source": [
    "# Change working directory\n",
    "if os.getcwd()[-13:] != \"allstar-votes\":\n",
    "    os.chdir(\"../../../allstar-votes\")\n",
    "\n",
    "# Get the importance of a given player\n",
    "def get_imp(username):\n",
    "    for player in pr_sorted:\n",
    "        if player[0] == username:\n",
    "            return player[1]\n",
    "    return -1 # if importance not found\n",
    "\n",
    "# Get the votes for a given player, in 2018-19 season\n",
    "def get_votes_19(name):\n",
    "    os.chdir(\"./votes\")\n",
    "    with open(\"votes19.csv\", \"r\") as f:\n",
    "        reader = csv.reader(f)\n",
    "        for line in reader:\n",
    "            if line[0] == name:\n",
    "                os.chdir(\"..\")\n",
    "                return line[1]\n",
    "    os.chdir(\"..\")\n",
    "    return -1 # if votes not found\n",
    "    \n",
    "# Store players, their votes, and their importance\n",
    "stats = {}\n",
    "with open(\"names-and-handles.csv\", \"r\") as f:\n",
    "    reader = csv.reader(f)\n",
    "    for line in reader:\n",
    "        if line[1] and line[1] != \"null\": # if there is a username\n",
    "            stats[line[0]] = {\n",
    "                'username': line[1],\n",
    "                'imp': get_imp(line[1]),\n",
    "                'votes': get_votes_19(line[0]),\n",
    "            }\n",
    "\n",
    "# Plot votes against importance (importance: X-axis, votes: Y-axis)\n",
    "imp   = []\n",
    "votes = []\n",
    "for player, stat in stats.items():\n",
    "    if stat['imp'] != -1 and stat['votes'] != -1:\n",
    "        imp.append(float(stat['imp']))\n",
    "        votes.append(float(stat['votes']))\n",
    "plt.scatter(imp, votes)\n",
    "plt.xticks([0, 0.005, 0.01, 0.015, 0.02, 0.025, 0.03, 0.035, 0.04])\n",
    "plt.xlim(left=0)\n",
    "plt.ylim(bottom=0)\n",
    "plt.xlabel('PageRank importance')\n",
    "plt.ylabel('Votes (2018-19 season)')\n",
    "plt.show()\n",
    "\n",
    "# Print mean\n",
    "print('mean importance: ', end='')\n",
    "print(np.mean(imp))"
   ]
  }
 ],
 "metadata": {
  "kernelspec": {
   "display_name": "Python 3",
   "language": "python",
   "name": "python3"
  },
  "language_info": {
   "codemirror_mode": {
    "name": "ipython",
    "version": 3
   },
   "file_extension": ".py",
   "mimetype": "text/x-python",
   "name": "python",
   "nbconvert_exporter": "python",
   "pygments_lexer": "ipython3",
   "version": "3.6.3"
  }
 },
 "nbformat": 4,
 "nbformat_minor": 2
}
