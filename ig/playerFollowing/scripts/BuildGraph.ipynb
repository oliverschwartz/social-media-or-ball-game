{
 "cells": [
  {
   "cell_type": "code",
   "execution_count": 18,
   "metadata": {},
   "outputs": [],
   "source": [
    "# dependencies and constants\n",
    "import os, csv\n",
    "import networkx as nx\n",
    "import operator\n",
    "import matplotlib.pyplot as plt\n",
    "%matplotlib inline\n",
    "FILE_EXT_NUM = -14\n",
    "FILE_EXT     = \"_processed.csv\"\n",
    "DIR          = \"../processed\""
   ]
  },
  {
   "cell_type": "code",
   "execution_count": 5,
   "metadata": {},
   "outputs": [],
   "source": [
    "# create digraph\n",
    "G = nx.DiGraph()"
   ]
  },
  {
   "cell_type": "code",
   "execution_count": 6,
   "metadata": {},
   "outputs": [],
   "source": [
    "# add a node for each player\n",
    "os.chdir(DIR)\n",
    "for file in os.listdir():\n",
    "    if file[-14:] == FILE_EXT: # ignore hidden files\n",
    "        G.add_node(file[:FILE_EXT_NUM])"
   ]
  },
  {
   "cell_type": "code",
   "execution_count": 7,
   "metadata": {},
   "outputs": [],
   "source": [
    "# add directed edges between players\n",
    "for node in G.adj:\n",
    "    with open(str(node + FILE_EXT), 'r') as file:\n",
    "        for line in file.readlines():\n",
    "            line = line.strip()\n",
    "            for player in G.adj:\n",
    "                if player == line and player != node:\n",
    "                    G.add_edge(node, line)"
   ]
  },
  {
   "cell_type": "code",
   "execution_count": 8,
   "metadata": {
    "scrolled": true
   },
   "outputs": [
    {
     "data": {
      "image/png": "[encoded data removed]",
      "text/plain": [
       "<Figure size 432x288 with 1 Axes>"
      ]
     },
     "metadata": {
      "needs_background": "light"
     },
     "output_type": "display_data"
    }
   ],
   "source": [
    "# print graph\n",
    "nx.draw_networkx(G, with_labels=False, node_size=10)\n",
    "plt.draw()\n",
    "plt.show()"
   ]
  },
  {
   "cell_type": "code",
   "execution_count": 20,
   "metadata": {},
   "outputs": [
    {
     "name": "stdout",
     "output_type": "stream",
     "text": [
      "('kingjames', 0.03553593315993991)\n",
      "('ygtrece', 0.027584429348586983)\n",
      "('stephencurry30', 0.026157107020616924)\n",
      "('carmeloanthony', 0.023828543024969874)\n",
      "('cp3', 0.023801859248336676)\n",
      "('jharden13', 0.023274038641277996)\n",
      "('isaiahthomas', 0.020789943584555305)\n",
      "('antdavis23', 0.020380624409047213)\n",
      "('joelembiid', 0.019534578216163116)\n",
      "('jaytatum0', 0.018979234929240817)\n",
      "('kuz', 0.018148109834598452)\n",
      "('damianlillard', 0.017160350547480812)\n",
      "('deandre', 0.016988332841281744)\n",
      "('demar_derozan', 0.016545452042945503)\n",
      "('dloading', 0.016125635072967475)\n",
      "('lukadoncic', 0.015669579729587352)\n",
      "('zo', 0.014425066679415392)\n",
      "('klaythompson', 0.014295577838564739)\n",
      "('jimmybutler', 0.014289831118031924)\n",
      "('dbook', 0.01390744080458322)\n",
      "('swipathefox', 0.013873339137717294)\n",
      "('1ngram4', 0.013782262616099616)\n",
      "('karltowns', 0.012855633004400372)\n",
      "('traeyoung', 0.012585164280719261)\n",
      "('blakegriffin23', 0.012549433703084137)\n",
      "('kyle_lowry7', 0.011674600145668287)\n",
      "('_tonyparker09', 0.011539644993741478)\n",
      "('bensimmons', 0.011480007995675133)\n",
      "('jhart', 0.011211916480263767)\n",
      "('rajonrondo', 0.010859412341564782)\n",
      "('bradbeal3', 0.01074590045750524)\n",
      "('tobiasharris', 0.010660049364590933)\n",
      "('juliusrandle30', 0.010298537169728977)\n",
      "('andre', 0.009494644599418837)\n",
      "('iamamirjohnson', 0.008764458569273223)\n",
      "('zachlavine8', 0.008751660603915964)\n",
      "('sdot1414', 0.00858703717336135)\n",
      "('alhorford', 0.008456170818169503)\n",
      "('3tross1', 0.008360561543338587)\n",
      "('timmyjr10', 0.00834387199375089)\n",
      "('kennethfaried35', 0.008173103862338873)\n",
      "('rudygobert27', 0.00802438464936896)\n",
      "('channingfrye', 0.008018038879749428)\n",
      "('mr_carter5', 0.008004532356909658)\n",
      "('diawboris', 0.007995025782511307)\n",
      "('mac11', 0.007979483547315877)\n",
      "('iclark21', 0.007880641043303094)\n",
      "('joeingles7', 0.007823008908621445)\n",
      "('sergeibaka', 0.0077708399750145716)\n",
      "('22wiggins', 0.00768872388704473)\n",
      "('nicbatum88', 0.0075374368603827084)\n",
      "('chrisbosh', 0.007525528244109343)\n",
      "('austinjrivers', 0.007440290515813942)\n",
      "('_alvo_', 0.007313769900643724)\n",
      "('brandonknight', 0.007057261450949263)\n",
      "('dakarijohnson', 0.006883855830529201)\n",
      "('bam1of1', 0.006838396718523279)\n",
      "('jlin7', 0.006804819756560532)\n",
      "('vevey1800', 0.006723953416367789)\n",
      "('courtneylee', 0.0065970492587286616)\n",
      "('giannis_an34', 0.006507685679687834)\n",
      "('kporzee', 0.006261807165461886)\n",
      "('alexthegreat22', 0.0062147995970769304)\n",
      "('thonmaker', 0.0061702791151905575)\n",
      "('youngheirgordon', 0.00615431160654766)\n",
      "('acfresh21', 0.006029495986800405)\n",
      "('deandreayton', 0.006009050953623834)\n",
      "('ccapela15', 0.0059945483162061435)\n",
      "('benoudrih19', 0.005942869203817545)\n",
      "('omricasspi18', 0.005855461196887366)\n",
      "('thats_g_', 0.005809797713969101)\n",
      "('twoshotonee', 0.005681900916089416)\n",
      "('kostas__ante13', 0.005636985952940968)\n",
      "('daanteee', 0.005583555928253615)\n",
      "('andredrummondd', 0.005516096191236865)\n",
      "('megalodon20', 0.005249125067589952)\n",
      "('amilejefferson', 0.005163155745616977)\n",
      "('lucmbahamoute', 0.005044147933471074)\n",
      "('stevenadams', 0.005005388477021084)\n",
      "('alexlen_21', 0.004976217662497273)\n",
      "('eneskanter11', 0.004877281121053845)\n",
      "('the_4th_holiday', 0.004744692042032138)\n",
      "('drewroc5', 0.004733398096940015)\n",
      "('flydre21', 0.004582276642650336)\n",
      "('antezizic', 0.004555820205316576)\n",
      "('andersonvarejao18', 0.004501318139054961)\n",
      "('dubblea74', 0.004469135645098664)\n",
      "('danilogallogallinari', 0.0044544470248236365)\n",
      "('alexabrines', 0.004381471842661386)\n",
      "('iammontaellis', 0.0043415816481523935)\n",
      "('gordonhayward', 0.0042797271356185)\n",
      "('mkg14', 0.004234195868596046)\n",
      "('antsimons', 0.004210800903103886)\n",
      "('graysonjallen', 0.004150075465215245)\n",
      "('dulenader2', 0.004129008705956873)\n",
      "('ageefla', 0.003950652832962636)\n",
      "('imfelicio', 0.003929002072496505)\n",
      "('jjbarea11', 0.0038819959482800383)\n",
      "('adreian_payne', 0.003742644408741029)\n",
      "('alizejohnson24', 0.0036967303278523543)\n",
      "('chiefhasarrived', 0.0036259375888499385)\n",
      "('bogdanbogdanovic', 0.003586553072993693)\n",
      "('alantwilliams', 0.003571694465851296)\n",
      "('ajincaalexis', 0.0033808605400425205)\n",
      "('the_1_dragon', 0.003295323004727429)\n",
      "('allencrabbe', 0.0032761860612330004)\n",
      "('44bojan', 0.002942731252467507)\n",
      "('angeldelgado', 0.002669620109946573)\n",
      "('nicholaf44', 0.002480319657260449)\n",
      "('alecpeters25', 0.0020505361922741575)\n",
      "('itsaverybradley', 0.0017701576729853585)\n",
      "('abrooksart', 0.0014403413219363284)\n",
      "('andrewbogut', 0.0014403413219363284)\n",
      "('kw15', 0.0014403413219363284)\n"
     ]
    }
   ],
   "source": [
    "pr = nx.pagerank(G, alpha = 0.85)\n",
    "pr_sorted = sorted(pr.items(), key=operator.itemgetter(1), reverse=True)\n",
    "for item in pr_sorted:\n",
    "    print(item)"
   ]
  }
 ],
 "metadata": {
  "kernelspec": {
   "display_name": "Python 3",
   "language": "python",
   "name": "python3"
  },
  "language_info": {
   "codemirror_mode": {
    "name": "ipython",
    "version": 3
   },
   "file_extension": ".py",
   "mimetype": "text/x-python",
   "name": "python",
   "nbconvert_exporter": "python",
   "pygments_lexer": "ipython3",
   "version": "3.6.3"
  }
 },
 "nbformat": 4,
 "nbformat_minor": 2
}
