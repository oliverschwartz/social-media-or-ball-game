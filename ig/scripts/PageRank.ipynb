{
 "cells": [
  {
   "cell_type": "markdown",
   "metadata": {},
   "source": [
    "# Building the Digraph\n",
    "By parsing csv files, we create the directed graph representing who follows who in the NBA. A directed edge goes **from A to B, if A follows B**.\n"
   ]
  },
  {
   "cell_type": "code",
   "execution_count": 1,
   "metadata": {
    "collapsed": false
   },
   "outputs": [],
   "source": [
    "# dependencies and constants\n",
    "import os, csv, operator\n",
    "import numpy as np\n",
    "from sklearn.preprocessing import normalize\n",
    "import networkx as nx\n",
    "import matplotlib.pyplot as plt\n",
    "%matplotlib inline\n",
    "FILE_EXT_NUM = -14\n",
    "FILE_EXT     = \"_processed.csv\"\n",
    "DIR          = \"../processed\""
   ]
  },
  {
   "cell_type": "code",
   "execution_count": 2,
   "metadata": {
    "collapsed": false
   },
   "outputs": [],
   "source": [
    "# create digraph\n",
    "G = nx.DiGraph()"
   ]
  },
  {
   "cell_type": "code",
   "execution_count": 3,
   "metadata": {
    "collapsed": false
   },
   "outputs": [],
   "source": [
    "# add a node for each player\n",
    "os.chdir(DIR)\n",
    "for file in os.listdir():\n",
    "    if file[-14:] == FILE_EXT: # ignore hidden files\n",
    "        G.add_node(file[:FILE_EXT_NUM])"
   ]
  },
  {
   "cell_type": "code",
   "execution_count": 4,
   "metadata": {
    "collapsed": true
   },
   "outputs": [],
   "source": [
    "# add directed edges between players\n",
    "for node in G.adj:\n",
    "    with open(str(node + FILE_EXT), 'r') as file:\n",
    "        for line in file.readlines():\n",
    "            line = line.strip()\n",
    "            for player in G.adj:\n",
    "                if player == line and player != node:\n",
    "                    G.add_edge(node, line)"
   ]
  },
  {
   "cell_type": "code",
   "execution_count": 5,
   "metadata": {
    "collapsed": false,
    "scrolled": false
   },
   "outputs": [
    {
     "data": {
      "image/png": "[encoded data removed]",
      "text/plain": [
       "<Figure size 432x288 with 1 Axes>"
      ]
     },
     "metadata": {},
     "output_type": "display_data"
    }
   ],
   "source": [
    "# print graph\n",
    "nx.draw_networkx(G, with_labels=False, node_size=10)\n",
    "plt.draw()\n",
    "plt.show()"
   ]
  },
  {
   "cell_type": "code",
   "execution_count": 6,
   "metadata": {
    "collapsed": false
   },
   "outputs": [
    {
     "name": "stdout",
     "output_type": "stream",
     "text": [
      "markellefultz\n",
      "supermariohezonja\n",
      "mkg14\n",
      "abrooksart\n",
      "andrewbogut\n",
      "eneskanter11\n"
     ]
    }
   ],
   "source": [
    "# Find players who don't follow any other players\n",
    "for player in G.nodes:\n",
    "    others = 0\n",
    "    for neighbor in G.neighbors(player):\n",
    "        others += 1\n",
    "    if (others == 0):\n",
    "        print(player)"
   ]
  },
  {
   "cell_type": "markdown",
   "metadata": {},
   "source": [
    "# Computing Importance with PageRank\n",
    "In this section, we compute the importance score of each player in the network. We do this through two methods: first, a manual computation using the ```numpy``` library; then, a one-line computation with ```networkx``` built-in methods as a correctness check. We also compute importance with a variety of other metrics, including eigenvector centrality. "
   ]
  },
  {
   "cell_type": "code",
   "execution_count": 7,
   "metadata": {
    "collapsed": false
   },
   "outputs": [],
   "source": [
    "# compute H matrix (normalized with no all-zero rows)\n",
    "A = nx.adjacency_matrix(G).todense()\n",
    "dim = A.shape[0]\n",
    "row_sums = A.sum(axis=1)\n",
    "H = normalize(A, axis=1, norm='l1')\n",
    "for i in range(0, dim):\n",
    "    if int(row_sums[i]) is 0:\n",
    "        for j in range(len(H[i])):\n",
    "            H[i, j] = 1.0/dim\n",
    "\n",
    "# Ensure there are no zero rows\n",
    "# row_sums_2 = H.sum(axis=1)\n",
    "# for row_sum in row_sums_2:\n",
    "#     if row_sum == 0:\n",
    "#         print(\"zero row sum\")\n",
    "\n",
    "# perform iterations to get the importance vector\n",
    "theta = 0.85\n",
    "\n",
    "# Compute Google Matrix\n",
    "G_matrix = theta * H + (1 - theta) * (1.0 / dim) * np.ones((dim, dim))\n",
    "\n",
    "# Set an initial pi vector (normalized)\n",
    "pi = np.ones(dim)\n",
    "for i in range(0, dim):\n",
    "    if i is not 0:\n",
    "        pi[i] = 0\n",
    "\n",
    "# Perform 1000 iterations of PageRank\n",
    "for i in range(0, 1000):\n",
    "    pi = pi.dot(G_matrix)\n",
    "# print(np.sort(pi))"
   ]
  },
  {
   "cell_type": "markdown",
   "metadata": {},
   "source": [
    "#### Compute Eigenvector, Betweenness, and Load Centrality"
   ]
  },
  {
   "cell_type": "code",
   "execution_count": 9,
   "metadata": {
    "collapsed": false
   },
   "outputs": [
    {
     "ename": "SyntaxError",
     "evalue": "invalid syntax (<ipython-input-9-0cbf6adc9f54>, line 6)",
     "output_type": "error",
     "traceback": [
      "\u001b[0;36m  File \u001b[0;32m\"<ipython-input-9-0cbf6adc9f54>\"\u001b[0;36m, line \u001b[0;32m6\u001b[0m\n\u001b[0;31m    with open()\u001b[0m\n\u001b[0m               ^\u001b[0m\n\u001b[0;31mSyntaxError\u001b[0m\u001b[0;31m:\u001b[0m invalid syntax\n"
     ]
    }
   ],
   "source": [
    "eigen = sorted(nx.eigenvector_centrality(G).items(), key=operator.itemgetter(1), reverse=True)\n",
    "load  = sorted(nx.load_centrality(G).items(), key=operator.itemgetter(1), reverse=True)\n",
    "betw = sorted(nx.betweenness_centrality(G).items(), key=operator.itemgetter(1), reverse=True)\n",
    "\n",
    "\n",
    "with open(\"eigen.csv\", 'w') as f:\n",
    "    for item in eigen:\n",
    "        f.write(str(item[0]) + \",\" + str(item[1]) + \"\\n\")\n",
    "os.rename(\"./eigen.csv\", \"../scripts/eigen.csv\")\n",
    "\n",
    "with open(\"load.csv\", 'w') as f:\n",
    "    for item in load:\n",
    "        f.write(str(item[0]) + \",\" + str(item[1]) + \"\\n\")\n",
    "os.rename(\"./load.csv\", \"../scripts/load.csv\")\n",
    "\n",
    "with open(\"betw.csv\", 'w') as f:\n",
    "    for item in betw:\n",
    "        f.write(str(item[0]) + \",\" + str(item[1]) + \"\\n\")\n",
    "os.rename(\"./betw.csv\", \"../scripts/betw.csv\")\n",
    "    \n",
    "\n",
    "# # Print results\n",
    "# print(sorted(e_centrality.items(), key=operator.itemgetter(1), reverse=True))\n",
    "# print()\n",
    "# print(sorted(l_centrality.items(), key=operator.itemgetter(1), reverse=True))\n",
    "# print()\n",
    "# print(sorted(b_centrality.items(), key=operator.itemgetter(1), reverse=True))"
   ]
  },
  {
   "cell_type": "code",
   "execution_count": 10,
   "metadata": {
    "collapsed": false
   },
   "outputs": [],
   "source": [
    "# Do PageRank with networkx built in method. Ensure output \n",
    "# identical to the above results. \n",
    "pr = nx.pagerank(G, alpha = 0.85)\n",
    "pr_sorted = sorted(pr.items(), key=operator.itemgetter(1), reverse=True)\n",
    "with open(\"pagerank.csv\", 'w') as f:\n",
    "    for item in pr_sorted:\n",
    "        f.write(item[0])\n",
    "        f.write(\",\")\n",
    "        f.write(str(item[1]))\n",
    "        f.write(\"\\n\")\n",
    "        \n",
    "os.rename(\"./pagerank.csv\", \"../scripts/pagerank.csv\")"
   ]
  },
  {
   "cell_type": "markdown",
   "metadata": {},
   "source": [
    "# Plotting All-Star votes against Importance\n",
    "Here, for a small subset of players we plot their All-Star votes against their importance score to discern some sort of relationship. "
   ]
  },
  {
   "cell_type": "code",
   "execution_count": 16,
   "metadata": {
    "collapsed": false,
    "scrolled": false
   },
   "outputs": [
    {
     "data": {
      "image/png": "[encoded data removed]",
      "text/plain": [
       "<Figure size 432x288 with 1 Axes>"
      ]
     },
     "metadata": {},
     "output_type": "display_data"
    },
    {
     "name": "stdout",
     "output_type": "stream",
     "text": [
      "mean importance: 0.006647377957677644\n"
     ]
    }
   ],
   "source": [
    "# Change working directory\n",
    "if os.getcwd()[-13:] != \"allstar-votes\":\n",
    "    os.chdir(\"../../allstar-votes\")\n",
    "\n",
    "# Get the importance of a given player\n",
    "def get_imp(username):\n",
    "    for player in pr_sorted:\n",
    "        if player[0] == username:\n",
    "            return player[1]\n",
    "    return -1 # if importance not found\n",
    "\n",
    "# Get the votes for a given player, in 2018-19 season\n",
    "def get_votes_19(name):\n",
    "    os.chdir(\"./votes\")\n",
    "    with open(\"votes19.csv\", \"r\") as f:\n",
    "        reader = csv.reader(f)\n",
    "        for line in reader:\n",
    "            if line[0] == name:\n",
    "                os.chdir(\"..\")\n",
    "                return line[1]\n",
    "    os.chdir(\"..\")\n",
    "    return -1 # if votes not found\n",
    "    \n",
    "# Store players, their votes, and their importance\n",
    "stats = {}\n",
    "with open(\"names-and-handles.csv\", \"r\") as f:\n",
    "    reader = csv.reader(f)\n",
    "    for line in reader:\n",
    "        if line[1] and line[1] != \"null\": # if there is a username\n",
    "            stats[line[0]] = {\n",
    "                'username': line[1],\n",
    "                'imp': get_imp(line[1]),\n",
    "                'votes': get_votes_19(line[0]),\n",
    "            }\n",
    "\n",
    "# Plot votes against importance (importance: X-axis, votes: Y-axis)\n",
    "imp   = []\n",
    "votes = []\n",
    "for player, stat in stats.items():\n",
    "    if stat['imp'] != -1 and stat['votes'] != -1:\n",
    "        imp.append(float(stat['imp']))\n",
    "        votes.append(float(stat['votes']))\n",
    "plt.scatter(imp, votes)\n",
    "plt.xticks([0, 0.005, 0.01, 0.015, 0.02, 0.025, 0.03, 0.035, 0.04])\n",
    "plt.xlim(left=0)\n",
    "plt.ylim(bottom=0)\n",
    "plt.xlabel('PageRank importance')\n",
    "plt.ylabel('Votes (2018-19 season)')\n",
    "plt.show()\n",
    "\n",
    "# Print mean\n",
    "print('mean importance: ', end='')\n",
    "print(np.mean(imp))"
   ]
  },
  {
   "cell_type": "code",
   "execution_count": null,
   "metadata": {
    "collapsed": true
   },
   "outputs": [],
   "source": []
  }
 ],
 "metadata": {
  "kernelspec": {
   "display_name": "Python 3",
   "language": "python",
   "name": "python3"
  },
  "language_info": {
   "codemirror_mode": {
    "name": "ipython",
    "version": 3
   },
   "file_extension": ".py",
   "mimetype": "text/x-python",
   "name": "python",
   "nbconvert_exporter": "python",
   "pygments_lexer": "ipython3",
   "version": "3.6.3"
  }
 },
 "nbformat": 4,
 "nbformat_minor": 2
}
