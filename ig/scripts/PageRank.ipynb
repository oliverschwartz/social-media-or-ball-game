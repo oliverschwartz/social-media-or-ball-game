{
 "cells": [
  {
   "cell_type": "markdown",
   "metadata": {},
   "source": [
    "# Building the Digraph\n",
    "By parsing csv files, we create the directed graph representing who follows who in the NBA. A directed edge goes **from A to B, if A follows B**.\n"
   ]
  },
  {
   "cell_type": "code",
   "execution_count": 1,
   "metadata": {
    "collapsed": false
   },
   "outputs": [],
   "source": [
    "# dependencies and constants\n",
    "import os, csv, operator\n",
    "import numpy as np\n",
    "from sklearn.preprocessing import normalize\n",
    "import networkx as nx\n",
    "import matplotlib.pyplot as plt\n",
    "%matplotlib inline\n",
    "FILE_EXT_NUM = -14\n",
    "FILE_EXT     = \"_processed.csv\"\n",
    "DIR          = \"../processed\""
   ]
  },
  {
   "cell_type": "code",
   "execution_count": 2,
   "metadata": {
    "collapsed": false
   },
   "outputs": [],
   "source": [
    "# create digraph\n",
    "G = nx.DiGraph()"
   ]
  },
  {
   "cell_type": "code",
   "execution_count": 3,
   "metadata": {
    "collapsed": false
   },
   "outputs": [],
   "source": [
    "# add a node for each player\n",
    "os.chdir(DIR)\n",
    "for file in os.listdir():\n",
    "    if file[-14:] == FILE_EXT: # ignore hidden files\n",
    "        G.add_node(file[:FILE_EXT_NUM])"
   ]
  },
  {
   "cell_type": "code",
   "execution_count": 4,
   "metadata": {
    "collapsed": true
   },
   "outputs": [],
   "source": [
    "# add directed edges between players\n",
    "for node in G.adj:\n",
    "    with open(str(node + FILE_EXT), 'r') as file:\n",
    "        for line in file.readlines():\n",
    "            line = line.strip()\n",
    "            for player in G.adj:\n",
    "                if player == line and player != node:\n",
    "                    G.add_edge(node, line)"
   ]
  },
  {
   "cell_type": "code",
   "execution_count": 5,
   "metadata": {
    "collapsed": false,
    "scrolled": false
   },
   "outputs": [
    {
     "data": {
      "image/png": "[encoded data removed]",
      "text/plain": [
       "<Figure size 432x288 with 1 Axes>"
      ]
     },
     "metadata": {},
     "output_type": "display_data"
    }
   ],
   "source": [
    "# print graph\n",
    "nx.draw_networkx(G, with_labels=False, node_size=10)\n",
    "plt.draw()\n",
    "plt.show()"
   ]
  },
  {
   "cell_type": "code",
   "execution_count": 6,
   "metadata": {
    "collapsed": false
   },
   "outputs": [
    {
     "name": "stdout",
     "output_type": "stream",
     "text": [
      "44bojan\n",
      "mkg14\n",
      "abrooksart\n",
      "itsaverybradley\n",
      "andrewbogut\n",
      "eneskanter11\n"
     ]
    }
   ],
   "source": [
    "# Find players who don't follow any other players\n",
    "for player in G.nodes:\n",
    "    others = 0\n",
    "    for neighbor in G.neighbors(player):\n",
    "        others += 1\n",
    "    if (others == 0):\n",
    "        print(player)"
   ]
  },
  {
   "cell_type": "markdown",
   "metadata": {},
   "source": [
    "# Computing Importance with PageRank\n",
    "In this section, we compute the importance score of each player in the network. We do this through two methods: first, a manual computation using the ```numpy``` library; then, a one-line computation with ```networkx``` built-in methods as a correctness check. We also compute importance with a variety of other metrics, including eigenvector centrality. "
   ]
  },
  {
   "cell_type": "code",
   "execution_count": 7,
   "metadata": {
    "collapsed": false
   },
   "outputs": [],
   "source": [
    "# compute H matrix (normalized with no all-zero rows)\n",
    "A = nx.adjacency_matrix(G).todense()\n",
    "dim = A.shape[0]\n",
    "row_sums = A.sum(axis=1)\n",
    "H = normalize(A, axis=1, norm='l1')\n",
    "for i in range(0, dim):\n",
    "    if int(row_sums[i]) is 0:\n",
    "        for j in range(len(H[i])):\n",
    "            H[i, j] = 1.0/dim\n",
    "\n",
    "# Ensure there are no zero rows\n",
    "# row_sums_2 = H.sum(axis=1)\n",
    "# for row_sum in row_sums_2:\n",
    "#     if row_sum == 0:\n",
    "#         print(\"zero row sum\")\n",
    "\n",
    "# perform iterations to get the importance vector\n",
    "theta = 0.85\n",
    "\n",
    "# Compute Google Matrix\n",
    "G_matrix = theta * H + (1 - theta) * (1.0 / dim) * np.ones((dim, dim))\n",
    "\n",
    "# Set an initial pi vector (normalized)\n",
    "pi = np.ones(dim)\n",
    "for i in range(0, dim):\n",
    "    if i is not 0:\n",
    "        pi[i] = 0\n",
    "\n",
    "# Perform 1000 iterations of PageRank\n",
    "for i in range(0, 1000):\n",
    "    pi = pi.dot(G_matrix)\n",
    "# print(np.sort(pi))"
   ]
  },
  {
   "cell_type": "markdown",
   "metadata": {},
   "source": [
    "#### Compute Eigenvector, Betweenness, and Load Centrality"
   ]
  },
  {
   "cell_type": "code",
   "execution_count": 8,
   "metadata": {
    "collapsed": false
   },
   "outputs": [
    {
     "name": "stdout",
     "output_type": "stream",
     "text": [
      "[('kingjames', 0.28899996700622127), ('ygtrece', 0.2707989513248932), ('cp3', 0.24808259227957682), ('jharden13', 0.21876117998208416), ('carmeloanthony', 0.21318935053935004), ('antdavis23', 0.2023348235614595), ('stephencurry30', 0.19557814621822836), ('isaiahthomas', 0.18785636959367064), ('jaytatum0', 0.1849995731084705), ('joelembiid', 0.1774533997545261), ('kuz', 0.15825052844798745), ('damianlillard', 0.157854673970013), ('dloading', 0.14941729674528165), ('deandre', 0.14155945098045336), ('demar_derozan', 0.13748782319893207), ('dbook', 0.13707787525942397), ('bradbeal3', 0.13307289766285335), ('lukadoncic', 0.13018691455749404), ('traeyoung', 0.12816540894081624), ('jimmybutler', 0.12491743998812987), ('kyle_lowry7', 0.12367967129788497), ('swipathefox', 0.11976620528720869), ('1ngram4', 0.11922918646632842), ('sir_deuce2', 0.11783508816343602), ('blakegriffin23', 0.1149445665882252), ('karltowns', 0.11472720891225097), ('juliusrandle30', 0.10177417417382732), ('zo', 0.10164630782421762), ('bensimmons', 0.10062146608823373), ('mac11', 0.09529397662505858), ('rajonrondo', 0.09039046801193475), ('zachlavine8', 0.08920856212893503), ('klaythompson', 0.08647029263537621), ('jhart', 0.08295137108424834), ('b_mclemore23', 0.08271502826737237), ('timmyjr10', 0.0722935866109321), ('austinjrivers', 0.0722890740610315), ('iso_zo', 0.07150490216235238), ('alhorford', 0.07002414965762106), ('dakarijohnson', 0.06930570864890935), ('3tross1', 0.06733035237243722), ('chrisbosh', 0.062332088146082855), ('iamamirjohnson', 0.06232979119514925), ('22wiggins', 0.06118931312996803), ('bam1of1', 0.060189770436991884), ('andre', 0.05712240111901182), ('brandonknight', 0.05710132849618165), ('channingfrye', 0.05703469586130873), ('blakeney96', 0.056922359406254924), ('boban', 0.05613848629893776), ('tobiasharris', 0.054446819550765115), ('mr_carter5', 0.05368466484824323), ('iclark21', 0.05307841951870499), ('andredrummondd', 0.05279711788488136), ('kennethfaried35', 0.05159715085077564), ('kporzee', 0.051301730825021326), ('jlin7', 0.0502813639897706), ('giannis_an34', 0.0496479786042753), ('sergeibaka', 0.049086367965683296), ('deandreayton', 0.04860112658790322), ('atolliver44', 0.04826312654074049), ('alexthegreat22', 0.04676876324946043), ('twoshotonee', 0.04628749652098717), ('joeingles7', 0.04554864995485996), ('courtneylee', 0.044164809350772265), ('drewroc5', 0.04193095418134171), ('thats_g_', 0.041733011137345094), ('benoudrih19', 0.04165766717700165), ('acfresh21', 0.041156211703398705), ('ccapela15', 0.041124859968152586), ('bjohnson_23', 0.04092980739045025), ('stevenadams', 0.0398336105614076), ('bismackbiyombo', 0.03957206555660855), ('brush_4', 0.039279119579312995), ('youngheirgordon', 0.037972695215975356), ('dubblea74', 0.036319724720547855), ('lucmbahamoute', 0.03610951691328792), ('sdot1414', 0.03607452539250266), ('alexabrines', 0.03606251604447525), ('iammontaellis', 0.03572002000539679), ('houseobayne', 0.0355083348519317), ('ageefla', 0.035136873682916424), ('alantwilliams', 0.034499193909038314), ('alexlen_21', 0.03440070123359545), ('mkg14', 0.03347792722332724), ('dulenader2', 0.033407986381885676), ('bportistime', 0.03276675401266216), ('amilejefferson', 0.032000508642608165), ('_alvo_', 0.03157597886160967), ('gordonhayward', 0.031015629632548117), ('nicbatum88', 0.030163984948969783), ('bogdanbogdanovic', 0.030155765388022945), ('blroberts22', 0.030148351550734382), ('brunofive', 0.029564297202386007), ('danilogallogallinari', 0.029493008251056906), ('flydre21', 0.029302337263745593), ('megalodon20', 0.028157504836557767), ('jjbarea11', 0.026891074872985865), ('andersonvarejao18', 0.026616690873951805), ('the_4th_holiday', 0.026490267199260707), ('_tonyparker09', 0.026460384883148932), ('omricasspi18', 0.025057821138680905), ('antezizic', 0.02491702051128974), ('chiefhasarrived', 0.024484069775512287), ('diawboris', 0.02414048281393894), ('allencrabbe', 0.023335342675690585), ('the_1_dragon', 0.023219094625552456), ('graysonjallen', 0.023036587940872197), ('imfelicio', 0.023013602344063664), ('kostas__ante13', 0.022843074803027708), ('daanteee', 0.022795301748019504), ('thonmaker', 0.021737547186866407), ('eneskanter11', 0.02112313052407715), ('antsimons', 0.020633519064586686), ('rudygobert27', 0.01845048257144414), ('vevey1800', 0.018195066924727693), ('brucebrown11', 0.015149264930104179), ('angeldelgado', 0.014163818618355825), ('ajincaalexis', 0.014126625604832167), ('alizejohnson24', 0.013357754809669525), ('adreian_payne', 0.009238243838664409), ('44bojan', 0.008027124167839125), ('bpaul', 0.0059258969011303005), ('nicholaf44', 0.005323066904709589), ('alecpeters25', 0.005275763497286864), ('itsaverybradley', 0.003782593544769398), ('kw15', 1.7811516306630945e-19), ('abrooksart', 1.7811516306630945e-19), ('andrewbogut', 1.7811516306630945e-19)]\n",
      "\n",
      "[('ygtrece', 0.05056760594488572), ('stephencurry30', 0.04873107738664563), ('antdavis23', 0.04085291989547118), ('sir_deuce2', 0.03905272366582526), ('cp3', 0.03561305474567956), ('kingjames', 0.03201689555863599), ('lukadoncic', 0.031132250280338693), ('dloading', 0.027990364108448226), ('deandre', 0.02727091251529369), ('jaytatum0', 0.027229527592970478), ('isaiahthomas', 0.02713049673532363), ('brunofive', 0.026191484331376504), ('joelembiid', 0.02333923752080889), ('damianlillard', 0.023043015420151563), ('boban', 0.022148382524921593), ('bismackbiyombo', 0.02109806476027139), ('kuz', 0.020240888552338767), ('tobiasharris', 0.019684822609489436), ('swipathefox', 0.019655993888151382), ('karltowns', 0.01941049848201226), ('jharden13', 0.01700464240683339), ('blakegriffin23', 0.016662444731529145), ('atolliver44', 0.016634568878122306), ('dbook', 0.016304735620840657), ('klaythompson', 0.016000749134382014), ('brandonknight', 0.015941377755357044), ('benoudrih19', 0.01565226475630081), ('mr_carter5', 0.014889210501713697), ('joeingles7', 0.014465712519063959), ('kennethfaried35', 0.014395629921395066), ('alhorford', 0.012547449384776007), ('timmyjr10', 0.011720918309892052), ('courtneylee', 0.011698824146574204), ('iso_zo', 0.011531486578627103), ('bogdanbogdanovic', 0.011443172565706813), ('carmeloanthony', 0.011188025373928302), ('youngheirgordon', 0.010828627787601304), ('dakarijohnson', 0.010644940827190051), ('1ngram4', 0.01055233323446544), ('3tross1', 0.010543410057343638), ('alexlen_21', 0.00951275813087857), ('vevey1800', 0.009485877556670195), ('twoshotonee', 0.009247322754273686), ('iclark21', 0.009238451783238412), ('demar_derozan', 0.009231964163192573), ('jimmybutler', 0.009089848481448518), ('bensimmons', 0.00862619312101757), ('zachlavine8', 0.008605053591350293), ('brush_4', 0.008552779528090249), ('b_mclemore23', 0.00855051377884296), ('andredrummondd', 0.00835505507353604), ('bam1of1', 0.008143900125771784), ('juliusrandle30', 0.008134230209681128), ('rudygobert27', 0.007762437097239268), ('bradbeal3', 0.00773483424859604), ('kostas__ante13', 0.007274650526008201), ('lucmbahamoute', 0.007027460887574077), ('kyle_lowry7', 0.00677320713079687), ('22wiggins', 0.006617255121942588), ('zo', 0.00654199064116893), ('iamamirjohnson', 0.006097830156634118), ('_alvo_', 0.0059352077515242895), ('acfresh21', 0.0058696949511150886), ('houseobayne', 0.005435787410017739), ('stevenadams', 0.005186370083715679), ('thonmaker', 0.0051732710618434255), ('daanteee', 0.004603902501966784), ('flydre21', 0.004462814583846819), ('jlin7', 0.004200545383687717), ('blakeney96', 0.004157917946538787), ('mac11', 0.004104721966146695), ('ccapela15', 0.004069462983136065), ('thats_g_', 0.003944418138794311), ('imfelicio', 0.0038642853105123084), ('jhart', 0.003735826914725567), ('alexthegreat22', 0.0037175382478319115), ('drewroc5', 0.0037152811927180967), ('antsimons', 0.003505706789109842), ('alantwilliams', 0.003342257028316836), ('giannis_an34', 0.003338446737422502), ('channingfrye', 0.0033273806622470645), ('antezizic', 0.003217518944462352), ('kporzee', 0.0031276433651330226), ('omricasspi18', 0.0028375962897605593), ('nicbatum88', 0.002745560101587619), ('chrisbosh', 0.0025807979269755386), ('amilejefferson', 0.0025573250273550024), ('megalodon20', 0.0024574593349199645), ('alizejohnson24', 0.0023619984441564266), ('ageefla', 0.002356041590023523), ('austinjrivers', 0.002332030911783817), ('andre', 0.0022655662082235804), ('traeyoung', 0.0022282551964825496), ('bportistime', 0.002216684194569283), ('_tonyparker09', 0.0021634323576298848), ('andersonvarejao18', 0.002102762463225523), ('alexabrines', 0.0019866233810975093), ('sergeibaka', 0.0017933067501552616), ('blroberts22', 0.0016862850333161747), ('diawboris', 0.001619856245456024), ('chiefhasarrived', 0.0015779794830606834), ('the_4th_holiday', 0.001479566284429543), ('iammontaellis', 0.0014115590639108048), ('ajincaalexis', 0.0013851663803989094), ('dulenader2', 0.0013658885411622862), ('adreian_payne', 0.0013465239953661951), ('danilogallogallinari', 0.0012422638518387783), ('deandreayton', 0.0011625500169579217), ('angeldelgado', 0.0010078729672943834), ('sdot1414', 0.0009325507879096235), ('graysonjallen', 0.0009086617362023364), ('bjohnson_23', 0.0007924897342650785), ('brucebrown11', 0.0007903227221478942), ('the_1_dragon', 0.0007315862326681859), ('rajonrondo', 0.0007254018575442749), ('jjbarea11', 0.0006175715244674398), ('bpaul', 0.0006014854363156527), ('allencrabbe', 0.0005673229944268329), ('alecpeters25', 0.00043910858180340576), ('gordonhayward', 0.00030913144263599473), ('dubblea74', 2.7165571810625937e-05), ('nicholaf44', 8.787964004499433e-06), ('kw15', 0.0), ('44bojan', 0.0), ('mkg14', 0.0), ('abrooksart', 0.0), ('itsaverybradley', 0.0), ('andrewbogut', 0.0), ('eneskanter11', 0.0)]\n",
      "\n",
      "[('ygtrece', 0.055006635450644006), ('stephencurry30', 0.051173940272378836), ('antdavis23', 0.04380523939969907), ('cp3', 0.03907852521031885), ('sir_deuce2', 0.03799491287164882), ('kingjames', 0.0346471612942199), ('lukadoncic', 0.03229261547948982), ('jaytatum0', 0.029180790476326216), ('dloading', 0.02863563293989115), ('deandre', 0.028357672790394837), ('isaiahthomas', 0.02821227765269944), ('joelembiid', 0.025641531795775715), ('brunofive', 0.024403838772288498), ('damianlillard', 0.023719899599894078), ('boban', 0.02233126468868209), ('kuz', 0.021075189592376687), ('bismackbiyombo', 0.020308882090475395), ('swipathefox', 0.0197780702836322), ('karltowns', 0.019155583188965028), ('tobiasharris', 0.018985092582879313), ('jharden13', 0.017911026131256738), ('blakegriffin23', 0.017280761420431542), ('dbook', 0.016522208051035898), ('atolliver44', 0.016110340404652944), ('brandonknight', 0.015856216671771128), ('klaythompson', 0.015470383465076624), ('benoudrih19', 0.014548396202285109), ('mr_carter5', 0.014282782001811432), ('joeingles7', 0.013628405987035087), ('kennethfaried35', 0.013363514951620992), ('carmeloanthony', 0.012340528144765302), ('alhorford', 0.012266168403749654), ('timmyjr10', 0.01157617723821669), ('iso_zo', 0.011278925785596276), ('courtneylee', 0.01125608016175835), ('1ngram4', 0.010727234613449894), ('bogdanbogdanovic', 0.01055587411410665), ('youngheirgordon', 0.010275908253569466), ('dakarijohnson', 0.010058692840068327), ('demar_derozan', 0.009823541564961449), ('3tross1', 0.009618975693934924), ('jimmybutler', 0.009422408089136193), ('iclark21', 0.008765516253761449), ('vevey1800', 0.008620693641310953), ('twoshotonee', 0.008597949474671986), ('b_mclemore23', 0.008536805005738864), ('alexlen_21', 0.008529625460013875), ('zachlavine8', 0.008529427735072474), ('bensimmons', 0.008506293594721865), ('brush_4', 0.00817943995929332), ('bam1of1', 0.008090343537670627), ('bradbeal3', 0.008009968349503115), ('andredrummondd', 0.007949565176861219), ('juliusrandle30', 0.007943330356466442), ('kostas__ante13', 0.0069615860393053034), ('lucmbahamoute', 0.006953041008129205), ('rudygobert27', 0.006931984300116021), ('zo', 0.006654666339894228), ('kyle_lowry7', 0.006485768547406185), ('22wiggins', 0.0062921851060593), ('_alvo_', 0.006159182377119255), ('iamamirjohnson', 0.005742818802793111), ('acfresh21', 0.005570174182239355), ('houseobayne', 0.004888060980981174), ('thonmaker', 0.004821543710799651), ('stevenadams', 0.004656762617183809), ('daanteee', 0.0042904061058546515), ('mac11', 0.00421093526293586), ('flydre21', 0.004055270604514073), ('jlin7', 0.004027170609177146), ('blakeney96', 0.003966980899279993), ('thats_g_', 0.0038020701679280654), ('ccapela15', 0.0036365852760905006), ('jhart', 0.0036328097958681868), ('alexthegreat22', 0.0034977710940648217), ('imfelicio', 0.003497202032874024), ('drewroc5', 0.003492967503224651), ('antsimons', 0.003214491878875571), ('giannis_an34', 0.0032009267476382232), ('channingfrye', 0.003035705241072116), ('kporzee', 0.0030294879857724363), ('antezizic', 0.0028894914083049143), ('alantwilliams', 0.002761087500719753), ('nicbatum88', 0.0026610640110208616), ('chrisbosh', 0.0026381524313257737), ('omricasspi18', 0.00258180087549572), ('traeyoung', 0.0025512986237095237), ('austinjrivers', 0.0023768474259793773), ('ageefla', 0.0023410971740323106), ('megalodon20', 0.0023148312391224053), ('amilejefferson', 0.0022832666375165347), ('_tonyparker09', 0.002137366810554803), ('andre', 0.002007312974578486), ('alizejohnson24', 0.0019219641148951732), ('bportistime', 0.0018710482160407846), ('andersonvarejao18', 0.0018505583338522798), ('sergeibaka', 0.0017329485336171784), ('alexabrines', 0.0016068585293963298), ('diawboris', 0.0015167451700600996), ('iammontaellis', 0.0014964091120418673), ('blroberts22', 0.0013905912609249473), ('adreian_payne', 0.0013605771566046578), ('ajincaalexis', 0.0012482949191887501), ('danilogallogallinari', 0.0011604901108162936), ('dulenader2', 0.0011072972370531468), ('the_4th_holiday', 0.0010982653398571088), ('deandreayton', 0.0010945201538822395), ('chiefhasarrived', 0.0010738946324709362), ('sdot1414', 0.0008042412212829793), ('angeldelgado', 0.0008002236460011781), ('graysonjallen', 0.0007650983349557694), ('rajonrondo', 0.0007046727991135871), ('jjbarea11', 0.0006782024524044072), ('brucebrown11', 0.0006779827215693153), ('bjohnson_23', 0.0006500744242916645), ('the_1_dragon', 0.0005755470771294972), ('bpaul', 0.0005263558250175142), ('alecpeters25', 0.0004423813116810745), ('allencrabbe', 0.00041666324185696155), ('gordonhayward', 0.0003325403946209248), ('dubblea74', 2.922196854211097e-05), ('nicholaf44', 8.787964004499437e-06), ('kw15', 0.0), ('44bojan', 0.0), ('mkg14', 0.0), ('abrooksart', 0.0), ('itsaverybradley', 0.0), ('andrewbogut', 0.0), ('eneskanter11', 0.0)]\n"
     ]
    }
   ],
   "source": [
    "e_centrality = nx.eigenvector_centrality(G)\n",
    "l_centrality = nx.load_centrality(G)\n",
    "b_centrality = nx.betweenness_centrality(G)\n",
    "\n",
    "# Print results\n",
    "print(sorted(e_centrality.items(), key=operator.itemgetter(1), reverse=True))\n",
    "print()\n",
    "print(sorted(l_centrality.items(), key=operator.itemgetter(1), reverse=True))\n",
    "print()\n",
    "print(sorted(b_centrality.items(), key=operator.itemgetter(1), reverse=True))"
   ]
  },
  {
   "cell_type": "code",
   "execution_count": 9,
   "metadata": {
    "collapsed": false
   },
   "outputs": [
    {
     "name": "stdout",
     "output_type": "stream",
     "text": [
      "('kingjames', 0.03197865746276435)\n",
      "('ygtrece', 0.024193966153442194)\n",
      "('stephencurry30', 0.023189442435413363)\n",
      "('cp3', 0.022427467468717835)\n",
      "('jharden13', 0.02137696230922528)\n",
      "('carmeloanthony', 0.020401076202169077)\n",
      "('isaiahthomas', 0.018176009959466662)\n",
      "('antdavis23', 0.017914397219166066)\n",
      "('joelembiid', 0.01780772235078844)\n",
      "('jaytatum0', 0.01744361287768145)\n",
      "('kuz', 0.016914877711861523)\n",
      "('deandre', 0.0163104113214055)\n",
      "('damianlillard', 0.015387092766579577)\n",
      "('demar_derozan', 0.014292081943722898)\n",
      "('dloading', 0.013834268195738245)\n",
      "('sir_deuce2', 0.013814547136870246)\n",
      "('lukadoncic', 0.013579431846271436)\n",
      "('jimmybutler', 0.013088152483361207)\n",
      "('klaythompson', 0.01285410669537698)\n",
      "('zo', 0.012577870704176288)\n",
      "('blakegriffin23', 0.012500345741316475)\n",
      "('1ngram4', 0.01236380900579799)\n",
      "('bensimmons', 0.012216525354225185)\n",
      "('dbook', 0.011965787096975954)\n",
      "('swipathefox', 0.011865679271735569)\n",
      "('karltowns', 0.011225945758737433)\n",
      "('traeyoung', 0.010616175640958795)\n",
      "('kyle_lowry7', 0.010453994151596136)\n",
      "('jhart', 0.010200032733187862)\n",
      "('bradbeal3', 0.010061688558623157)\n",
      "('boban', 0.009917293442772061)\n",
      "('tobiasharris', 0.009512437726351623)\n",
      "('juliusrandle30', 0.00940205843970924)\n",
      "('rajonrondo', 0.009393242427708873)\n",
      "('bismackbiyombo', 0.00887116762540807)\n",
      "('zachlavine8', 0.008660877102201339)\n",
      "('iso_zo', 0.008321402804061961)\n",
      "('andre', 0.008291797071759996)\n",
      "('alhorford', 0.008066606161897786)\n",
      "('_tonyparker09', 0.008001346897124948)\n",
      "('iamamirjohnson', 0.007917103271004573)\n",
      "('mac11', 0.007812907227946685)\n",
      "('b_mclemore23', 0.007670832407637029)\n",
      "('timmyjr10', 0.007549687125697551)\n",
      "('mr_carter5', 0.007447166125654761)\n",
      "('bam1of1', 0.007286605866587353)\n",
      "('diawboris', 0.007283857429989613)\n",
      "('sdot1414', 0.007271049207940461)\n",
      "('kennethfaried35', 0.007266881463262751)\n",
      "('iclark21', 0.00722641401390309)\n",
      "('3tross1', 0.0071460358461676405)\n",
      "('_alvo_', 0.0070771099815110355)\n",
      "('joeingles7', 0.007068964897846523)\n",
      "('22wiggins', 0.006976009896427605)\n",
      "('sergeibaka', 0.006842936273223572)\n",
      "('austinjrivers', 0.006744311453877563)\n",
      "('channingfrye', 0.0067099284227836835)\n",
      "('rudygobert27', 0.006708036913892974)\n",
      "('atolliver44', 0.006617329510918034)\n",
      "('chrisbosh', 0.006539917681211803)\n",
      "('dakarijohnson', 0.006495482406437833)\n",
      "('giannis_an34', 0.006457387574593319)\n",
      "('andredrummondd', 0.006406482586646309)\n",
      "('courtneylee', 0.006390140831578401)\n",
      "('brandonknight', 0.00636104388608483)\n",
      "('benoudrih19', 0.006354564249882669)\n",
      "('nicbatum88', 0.006266736387393583)\n",
      "('thonmaker', 0.006175599517311694)\n",
      "('jlin7', 0.006061460141207771)\n",
      "('vevey1800', 0.005957914347937432)\n",
      "('blakeney96', 0.0059571838402556285)\n",
      "('kporzee', 0.005616158099813081)\n",
      "('brush_4', 0.005605027445124869)\n",
      "('youngheirgordon', 0.005604493761216811)\n",
      "('brunofive', 0.005528079553558533)\n",
      "('omricasspi18', 0.005499607916772239)\n",
      "('acfresh21', 0.00544681353412419)\n",
      "('ccapela15', 0.005335715081899617)\n",
      "('deandreayton', 0.0052729693169161415)\n",
      "('twoshotonee', 0.005248094025557408)\n",
      "('thats_g_', 0.00520629701462988)\n",
      "('daanteee', 0.005141989987073885)\n",
      "('kostas__ante13', 0.0051399148833305205)\n",
      "('alexthegreat22', 0.005135281154356591)\n",
      "('drewroc5', 0.005112427653690631)\n",
      "('houseobayne', 0.004877001249490121)\n",
      "('stevenadams', 0.004832986506155668)\n",
      "('bogdanbogdanovic', 0.0046001735265931)\n",
      "('megalodon20', 0.004579812317785103)\n",
      "('lucmbahamoute', 0.0044998432864934304)\n",
      "('imfelicio', 0.004461432551293249)\n",
      "('alexlen_21', 0.004406022440209163)\n",
      "('bjohnson_23', 0.0042961952224661645)\n",
      "('bportistime', 0.0042918151199949515)\n",
      "('amilejefferson', 0.0042895015021722485)\n",
      "('eneskanter11', 0.004135671245492324)\n",
      "('andersonvarejao18', 0.004135338226207822)\n",
      "('antezizic', 0.0040949581153997905)\n",
      "('jjbarea11', 0.0040567418796760395)\n",
      "('danilogallogallinari', 0.003988583281152386)\n",
      "('the_4th_holiday', 0.0039382947913158065)\n",
      "('gordonhayward', 0.00391363923888138)\n",
      "('flydre21', 0.003866647029957706)\n",
      "('ageefla', 0.00383266109144616)\n",
      "('dubblea74', 0.0037839993600585486)\n",
      "('mkg14', 0.0037541967039057982)\n",
      "('brucebrown11', 0.00373833057773292)\n",
      "('alexabrines', 0.0037052204718211463)\n",
      "('iammontaellis', 0.0036465075858709804)\n",
      "('antsimons', 0.0036393450442012195)\n",
      "('graysonjallen', 0.0034888430381471228)\n",
      "('alantwilliams', 0.0034791324118676227)\n",
      "('adreian_payne', 0.0034680506713845884)\n",
      "('dulenader2', 0.003440543025838835)\n",
      "('the_1_dragon', 0.0033903380555126293)\n",
      "('alizejohnson24', 0.0033276938168315257)\n",
      "('chiefhasarrived', 0.0033114291478279698)\n",
      "('blroberts22', 0.003258281654227747)\n",
      "('ajincaalexis', 0.0028672471638331244)\n",
      "('allencrabbe', 0.002824305096466187)\n",
      "('44bojan', 0.00278382906096751)\n",
      "('bpaul', 0.0026689944283754138)\n",
      "('angeldelgado', 0.002662341100187322)\n",
      "('nicholaf44', 0.0020499913713885043)\n",
      "('alecpeters25', 0.0017892787246844527)\n",
      "('itsaverybradley', 0.0016329935605480755)\n",
      "('kw15', 0.001260490278303618)\n",
      "('abrooksart', 0.001260490278303618)\n",
      "('andrewbogut', 0.001260490278303618)\n"
     ]
    }
   ],
   "source": [
    "# Do PageRank with networkx built in method. Ensure output \n",
    "# identical to the above results. \n",
    "pr = nx.pagerank(G, alpha = 0.85)\n",
    "pr_sorted = sorted(pr.items(), key=operator.itemgetter(1), reverse=True)\n",
    "for item in pr_sorted:\n",
    "    print(item)"
   ]
  },
  {
   "cell_type": "markdown",
   "metadata": {},
   "source": [
    "# Plotting All-Star votes against Importance\n",
    "Here, for a small subset of players we plot their All-Star votes against their importance score to discern some sort of relationship. "
   ]
  },
  {
   "cell_type": "code",
   "execution_count": 10,
   "metadata": {
    "collapsed": false,
    "scrolled": false
   },
   "outputs": [
    {
     "data": {
      "image/png": "[encoded data removed]",
      "text/plain": [
       "<Figure size 432x288 with 1 Axes>"
      ]
     },
     "metadata": {},
     "output_type": "display_data"
    },
    {
     "name": "stdout",
     "output_type": "stream",
     "text": [
      "mean importance: 0.008428873026722237\n"
     ]
    }
   ],
   "source": [
    "# Change working directory\n",
    "if os.getcwd()[-13:] != \"allstar-votes\":\n",
    "    os.chdir(\"../../../allstar-votes\")\n",
    "\n",
    "# Get the importance of a given player\n",
    "def get_imp(username):\n",
    "    for player in pr_sorted:\n",
    "        if player[0] == username:\n",
    "            return player[1]\n",
    "    return -1 # if importance not found\n",
    "\n",
    "# Get the votes for a given player, in 2018-19 season\n",
    "def get_votes_19(name):\n",
    "    os.chdir(\"./votes\")\n",
    "    with open(\"votes19.csv\", \"r\") as f:\n",
    "        reader = csv.reader(f)\n",
    "        for line in reader:\n",
    "            if line[0] == name:\n",
    "                os.chdir(\"..\")\n",
    "                return line[1]\n",
    "    os.chdir(\"..\")\n",
    "    return -1 # if votes not found\n",
    "    \n",
    "# Store players, their votes, and their importance\n",
    "stats = {}\n",
    "with open(\"names-and-handles.csv\", \"r\") as f:\n",
    "    reader = csv.reader(f)\n",
    "    for line in reader:\n",
    "        if line[1] and line[1] != \"null\": # if there is a username\n",
    "            stats[line[0]] = {\n",
    "                'username': line[1],\n",
    "                'imp': get_imp(line[1]),\n",
    "                'votes': get_votes_19(line[0]),\n",
    "            }\n",
    "\n",
    "# Plot votes against importance (importance: X-axis, votes: Y-axis)\n",
    "imp   = []\n",
    "votes = []\n",
    "for player, stat in stats.items():\n",
    "    if stat['imp'] != -1 and stat['votes'] != -1:\n",
    "        imp.append(float(stat['imp']))\n",
    "        votes.append(float(stat['votes']))\n",
    "plt.scatter(imp, votes)\n",
    "plt.xticks([0, 0.005, 0.01, 0.015, 0.02, 0.025, 0.03, 0.035, 0.04])\n",
    "plt.xlim(left=0)\n",
    "plt.ylim(bottom=0)\n",
    "plt.xlabel('PageRank importance')\n",
    "plt.ylabel('Votes (2018-19 season)')\n",
    "plt.show()\n",
    "\n",
    "# Print mean\n",
    "print('mean importance: ', end='')\n",
    "print(np.mean(imp))"
   ]
  }
 ],
 "metadata": {
  "kernelspec": {
   "display_name": "Python 3",
   "language": "python",
   "name": "python3"
  },
  "language_info": {
   "codemirror_mode": {
    "name": "ipython",
    "version": 3
   },
   "file_extension": ".py",
   "mimetype": "text/x-python",
   "name": "python",
   "nbconvert_exporter": "python",
   "pygments_lexer": "ipython3",
   "version": "3.6.3"
  }
 },
 "nbformat": 4,
 "nbformat_minor": 2
}
